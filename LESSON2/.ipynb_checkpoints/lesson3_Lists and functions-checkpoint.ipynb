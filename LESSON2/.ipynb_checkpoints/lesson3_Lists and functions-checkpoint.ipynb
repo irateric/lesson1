{
 "cells": [
  {
   "cell_type": "code",
   "execution_count": 278,
   "metadata": {},
   "outputs": [
    {
     "name": "stdout",
     "output_type": "stream",
     "text": [
      "[30, 60, 100, 80, 55]\n",
      "325\n"
     ]
    },
    {
     "data": {
      "text/plain": [
       "[60, 100, 80]"
      ]
     },
     "execution_count": 278,
     "metadata": {},
     "output_type": "execute_result"
    }
   ],
   "source": [
    "# create a list of marks of five subjects\n",
    "marks = [30, 60, 100, 80, 55]\n",
    "print(marks)\n",
    "# create the sum of all these subjects\n",
    "total = 0\n",
    "for i in marks:\n",
    "    total += i\n",
    "print(total)\n",
    "# slice the first three subjects \n",
    "\n",
    "# index the last subject marks\n",
    "marks.index(55)\n",
    "marks[4]\n",
    "marks[1:4]"
   ]
  },
  {
   "cell_type": "code",
   "execution_count": 279,
   "metadata": {},
   "outputs": [
    {
     "name": "stdout",
     "output_type": "stream",
     "text": [
      "7\n"
     ]
    }
   ],
   "source": [
    "# create a function that takes in two numbers and add them\n",
    "def mass(a, b):\n",
    "    return a + b\n",
    "\n",
    "eric = mass(3, 4)\n",
    "print(eric)\n",
    "\n",
    "\n",
    "\n"
   ]
  },
  {
   "cell_type": "code",
   "execution_count": 280,
   "metadata": {},
   "outputs": [],
   "source": [
    "# weights \n",
    "import random as rd\n",
    "n =1000\n",
    "weights = [round(rd.random()*100,1) for i in range(n)]\n",
    "height  = [round(rd.random()+rd.choice([1,2]),2) for i in range(n)]\n",
    "# create a for loop that calculates the BMI for all the weights and heights above\n",
    "# save it in an empty list"
   ]
  },
  {
   "cell_type": "code",
   "execution_count": 282,
   "metadata": {},
   "outputs": [
    {
     "data": {
      "text/plain": [
       "[1.72, 1.99, 2.84, 1.45]"
      ]
     },
     "execution_count": 282,
     "metadata": {},
     "output_type": "execute_result"
    }
   ],
   "source": [
    "height[1:5]"
   ]
  },
  {
   "cell_type": "code",
   "execution_count": 283,
   "metadata": {},
   "outputs": [
    {
     "data": {
      "text/plain": [
       "1000"
      ]
     },
     "execution_count": 283,
     "metadata": {},
     "output_type": "execute_result"
    }
   ],
   "source": [
    "len(weights)"
   ]
  },
  {
   "cell_type": "code",
   "execution_count": 285,
   "metadata": {},
   "outputs": [],
   "source": [
    "BMI = []\n",
    "for index in range(1000):\n",
    "    weight = weights[index]\n",
    "    hei = height[index]\n",
    "    bmi = weight/(hei**2)\n",
    "    BMI.append(bmi)\n",
    "     "
   ]
  },
  {
   "cell_type": "code",
   "execution_count": 286,
   "metadata": {},
   "outputs": [
    {
     "name": "stdout",
     "output_type": "stream",
     "text": [
      "['john', 'kamau', 'alex', 'gatangi', 'malvin', 'martin', 'dorcas', 'joan', 'ivy', 'joshua']\n"
     ]
    }
   ],
   "source": [
    "# tebn of them\n",
    "# create an empty listr\n",
    "# create a for loop that greet each\n",
    "#\"johnm\" --> \"Hi John\"\n",
    "# save in empty list\n",
    "friends = [\"john\", \"kamau\", \"alex\", \"gatangi\", \"malvin\", \"martin\", \"dorcas\", \"joan\", \"ivy\", \"joshua\"]\n",
    "print(friends)\n"
   ]
  },
  {
   "cell_type": "code",
   "execution_count": 287,
   "metadata": {},
   "outputs": [
    {
     "data": {
      "text/plain": [
       "'John Kamau'"
      ]
     },
     "execution_count": 287,
     "metadata": {},
     "output_type": "execute_result"
    }
   ],
   "source": [
    "\"John\" + \" Kamau\""
   ]
  },
  {
   "cell_type": "code",
   "execution_count": 288,
   "metadata": {},
   "outputs": [],
   "source": [
    "GREET = []\n",
    "for friend in friends:\n",
    "    GREET.append(\"HI \"+friend)\n",
    "    "
   ]
  },
  {
   "cell_type": "code",
   "execution_count": 296,
   "metadata": {},
   "outputs": [
    {
     "data": {
      "text/plain": [
       "['Hi john', 'Hi kamau', 'Hi alex']"
      ]
     },
     "execution_count": 296,
     "metadata": {},
     "output_type": "execute_result"
    }
   ],
   "source": [
    "greet =[]\n",
    "for i in range(len(friends)):\n",
    "    greet.append(\"Hi \"+ friends[i])\n",
    "greet[:3]"
   ]
  },
  {
   "cell_type": "code",
   "execution_count": 290,
   "metadata": {},
   "outputs": [],
   "source": [
    "# look through two lists\n",
    "BMI = []\n",
    "for weight,hei in zip(weights,height):\n",
    "    bmi = weight/hei**2\n",
    "    BMI.append(bmi)"
   ]
  },
  {
   "cell_type": "code",
   "execution_count": 295,
   "metadata": {},
   "outputs": [
    {
     "data": {
      "text/plain": [
       "[14.276557310180058, 9.363169280692267, 2.474684982702457]"
      ]
     },
     "execution_count": 295,
     "metadata": {},
     "output_type": "execute_result"
    }
   ],
   "source": [
    "BMI[:3]"
   ]
  },
  {
   "cell_type": "code",
   "execution_count": 292,
   "metadata": {},
   "outputs": [
    {
     "data": {
      "text/plain": [
       "['inject chicken1',\n",
       " 'inject chicken2',\n",
       " 'inject chicken3',\n",
       " 'inject chicken4',\n",
       " 'inject chicken5']"
      ]
     },
     "execution_count": 292,
     "metadata": {},
     "output_type": "execute_result"
    }
   ],
   "source": [
    "chickens = [\"chicken1\", \"chicken2\",\"chicken3\",\"chicken4\",\"chicken5\"]\n",
    "chickens\n",
    "inject = []\n",
    "for chicken in chickens:\n",
    "    inject.append(\"inject \" + chicken)\n",
    "inject"
   ]
  },
  {
   "cell_type": "code",
   "execution_count": 294,
   "metadata": {},
   "outputs": [
    {
     "data": {
      "text/plain": [
       "[10500.0, 21000.0, 525000.0, 42000.0]"
      ]
     },
     "execution_count": 294,
     "metadata": {},
     "output_type": "execute_result"
    }
   ],
   "source": [
    "salaries = [10000, 20000, 500000, 40000]\n",
    "salaries_increment = []\n",
    "for salary in salaries:\n",
    "    salaries_increment.append(1.05 * salary)\n",
    "salaries_increment\n",
    "\n"
   ]
  },
  {
   "cell_type": "code",
   "execution_count": null,
   "metadata": {},
   "outputs": [],
   "source": []
  },
  {
   "cell_type": "code",
   "execution_count": null,
   "metadata": {},
   "outputs": [],
   "source": [
    "salaries = [10000, 20000, 500000, 40000]\n",
    "salaries increment = []\n",
    "for salary in salaries:\n",
    "    salaries i.append(1.05 + \"salaries\")\n"
   ]
  },
  {
   "cell_type": "markdown",
   "metadata": {},
   "source": [
    "# <font color = \"teal\">Assignment for practising</font>"
   ]
  },
  {
   "cell_type": "code",
   "execution_count": 303,
   "metadata": {},
   "outputs": [],
   "source": [
    "# Tests \n",
    "names = [rd.choice([\"john\",\"james\",\"jim\",\"jacob\"])+str(round(rd.random(),3)*1000).split(\".\")[0] for i in range(100)]\n",
    "maths = [rd.randint(0,100) for i in range(100)]\n",
    "english = [rd.randint(0,100) for i in range(100)]\n",
    "swahili = [rd.randint(0,100) for i in range(100)]\n",
    "social = [rd.randint(0,100) for i in range(100)]\n",
    "science = [rd.randint(0,100) for i in range(100)]\n"
   ]
  },
  {
   "cell_type": "code",
   "execution_count": 8,
   "metadata": {},
   "outputs": [
    {
     "ename": "NameError",
     "evalue": "name 'maths' is not defined",
     "output_type": "error",
     "traceback": [
      "\u001b[1;31m---------------------------------------------------------------------------\u001b[0m",
      "\u001b[1;31mNameError\u001b[0m                                 Traceback (most recent call last)",
      "Input \u001b[1;32mIn [8]\u001b[0m, in \u001b[0;36m<cell line: 3>\u001b[1;34m()\u001b[0m\n\u001b[0;32m      2\u001b[0m total \u001b[38;5;241m=\u001b[39m \u001b[38;5;241m0\u001b[39m\n\u001b[0;32m      3\u001b[0m \u001b[38;5;28;01mfor\u001b[39;00m index \u001b[38;5;129;01min\u001b[39;00m \u001b[38;5;28mrange\u001b[39m(\u001b[38;5;241m100\u001b[39m):\n\u001b[1;32m----> 4\u001b[0m     maths \u001b[38;5;241m=\u001b[39m \u001b[43mmaths\u001b[49m[index]\n\u001b[0;32m      5\u001b[0m     english \u001b[38;5;241m=\u001b[39m english[index]\n\u001b[0;32m      6\u001b[0m     swahili \u001b[38;5;241m=\u001b[39m swahili[index]\n",
      "\u001b[1;31mNameError\u001b[0m: name 'maths' is not defined"
     ]
    }
   ],
   "source": [
    "marks = []\n",
    "total = 0\n",
    "for index in range(100):\n",
    "    maths = maths[index]\n",
    "    english = english[index]\n",
    "    swahili = swahili[index]\n",
    "    social = social[index]\n",
    "    science = science[index]\n",
    "    total = (total + (maths + english + swahili + social + science))\n",
    "\n",
    "    marks.append(total)\n",
    "print(marks)\n",
    "    \n",
    "    \n",
    "    "
   ]
  }
 ],
 "metadata": {
  "kernelspec": {
   "display_name": "Python 3 (ipykernel)",
   "language": "python",
   "name": "python3"
  },
  "language_info": {
   "codemirror_mode": {
    "name": "ipython",
    "version": 3
   },
   "file_extension": ".py",
   "mimetype": "text/x-python",
   "name": "python",
   "nbconvert_exporter": "python",
   "pygments_lexer": "ipython3",
   "version": "3.10.6"
  },
  "vscode": {
   "interpreter": {
    "hash": "c515c8fbc483ac3d2f3ff49e0e689583c7d80870f65eed60ae70ca5582b184ce"
   }
  }
 },
 "nbformat": 4,
 "nbformat_minor": 2
}
